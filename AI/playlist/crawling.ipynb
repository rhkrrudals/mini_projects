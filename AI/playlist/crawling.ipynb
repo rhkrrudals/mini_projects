{
 "cells": [
  {
   "cell_type": "markdown",
   "metadata": {},
   "source": [
    "#### 유튜브 댓글 크롤링 해오기"
   ]
  },
  {
   "cell_type": "code",
   "execution_count": 98,
   "metadata": {},
   "outputs": [],
   "source": [
    "from selenium import webdriver\n",
    "import selenium\n",
    "import time\n",
    "from openpyxl import Workbook\n",
    "import pandas as pd\n",
    "from selenium.webdriver.common.keys import Keys\n",
    "from selenium.webdriver.chrome.service import Service\n",
    "from selenium.webdriver.common.by import By\n",
    "from bs4 import BeautifulSoup\n",
    "\n",
    "import warnings\n",
    "warnings.filterwarnings('ignore')"
   ]
  },
  {
   "cell_type": "markdown",
   "metadata": {},
   "source": [
    "[1] 크로링할 유튜브 불러오기\n",
    "***"
   ]
  },
  {
   "cell_type": "code",
   "execution_count": 99,
   "metadata": {},
   "outputs": [],
   "source": [
    "wb = Workbook(write_only=True)\n",
    "ws = wb.create_sheet()\n",
    "url = 'https://www.youtube.com/watch?v=DpcJP-wQWGI'\n",
    "label = 1\n",
    "\n",
    "service = Service(executable_path='/Users/kwakkyoungmin/Desktop/mini_pj/playlist/chromedriver')\n",
    "driver = webdriver.Chrome(service= service)\n",
    "driver.get(url)\n",
    "driver.implicitly_wait(3)\n",
    "\n",
    "time.sleep(3)\n",
    "\n",
    "driver.execute_script('window.scrollTo(0,800)')\n",
    "time.sleep(3)"
   ]
  },
  {
   "cell_type": "markdown",
   "metadata": {},
   "source": [
    "[3] 웹페이지 끝까지 스크롤하기\n",
    "***"
   ]
  },
  {
   "cell_type": "code",
   "execution_count": 100,
   "metadata": {},
   "outputs": [],
   "source": [
    "last_height = driver.execute_script('return document.documentElement.scrollHeight')\n",
    "\n",
    "while True:\n",
    "    driver.execute_script('window.scrollTo(0,document.documentElement.scrollHeight);')\n",
    "    time.sleep(3)\n",
    "    \n",
    "    new_height = driver.execute_script('return document.documentElement.scrollHeight')\n",
    "    if new_height == last_height:\n",
    "        break\n",
    "    last_height = new_height\n",
    "time.sleep(3)\n"
   ]
  },
  {
   "cell_type": "code",
   "execution_count": 101,
   "metadata": {},
   "outputs": [],
   "source": [
    "# 유튜브 팝업 닫기\n",
    "# try: \n",
    "#     driver.find_element(By.CSS_SELECTOR, '#dismiss-button > a').click()\n",
    "# except:\n",
    "#     pass\n"
   ]
  },
  {
   "cell_type": "code",
   "execution_count": 102,
   "metadata": {},
   "outputs": [],
   "source": [
    "# 대댓글 버튼 누르기\n",
    "# buttons = driver.find_elements(By.CSS_SELECTOR, '#more-replies > a') \n",
    "\n",
    "# time.sleep(3)\n",
    "\n",
    "# for button in buttons:\n",
    "#     button.send_keys(Keys.ENTER)\n",
    "#     time.sleep(3)\n",
    "#     button.click()"
   ]
  },
  {
   "cell_type": "code",
   "execution_count": 103,
   "metadata": {},
   "outputs": [],
   "source": [
    "# 댓글 가져오기\n",
    "html_source = driver.page_source\n",
    "soup = BeautifulSoup(html_source, 'html.parser')\n",
    "\n",
    "comment_list = soup.select('yt-attributed-string#content-text')\n",
    "\n",
    "comment_final = []"
   ]
  },
  {
   "cell_type": "code",
   "execution_count": 104,
   "metadata": {},
   "outputs": [],
   "source": [
    "for i in range(len(comment_list)):\n",
    "    temp_comment = comment_list[i].text\n",
    "    temp_comment = temp_comment.replace('\\n','')\n",
    "    temp_comment = temp_comment.replace('\\t','')\n",
    "    temp_comment = temp_comment.replace('     ', '')\n",
    "    comment_final.append(temp_comment)\n",
    "    \n",
    "# 댓글 저장하기\n",
    "pd_data = {'댓글 내용':comment_final, 'url' : url, 'label': label}\n",
    "youtube_pd = pd.DataFrame(pd_data)\n",
    "\n",
    "youtube_pd.to_excel('../playlist/data/1/label_1_9.xlsx')"
   ]
  },
  {
   "cell_type": "code",
   "execution_count": null,
   "metadata": {},
   "outputs": [],
   "source": []
  }
 ],
 "metadata": {
  "kernelspec": {
   "display_name": "NLP_38",
   "language": "python",
   "name": "python3"
  },
  "language_info": {
   "codemirror_mode": {
    "name": "ipython",
    "version": 3
   },
   "file_extension": ".py",
   "mimetype": "text/x-python",
   "name": "python",
   "nbconvert_exporter": "python",
   "pygments_lexer": "ipython3",
   "version": "3.8.20"
  }
 },
 "nbformat": 4,
 "nbformat_minor": 2
}
