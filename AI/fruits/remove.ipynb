{
 "cells": [
  {
   "cell_type": "markdown",
   "metadata": {},
   "source": [
    "#### 과일 데이터 분류하기\n",
    "- 사과 : 경태  \n",
    "\n",
    "- 딸기 : 영훈\n",
    "- 바나나 : 현주\n",
    "- 오렌지 : 경민"
   ]
  },
  {
   "cell_type": "markdown",
   "metadata": {},
   "source": [
    "[1] 데이터 전처리 - 데이터 누끼따기"
   ]
  },
  {
   "cell_type": "code",
   "execution_count": 27,
   "metadata": {},
   "outputs": [],
   "source": [
    "from rembg import remove \n",
    "from PIL import Image\n",
    "import os "
   ]
  },
  {
   "cell_type": "code",
   "execution_count": 28,
   "metadata": {},
   "outputs": [],
   "source": [
    "IMG_PATH ='./orange/'\n",
    "OUT_PATH = './orange_remove/'"
   ]
  },
  {
   "cell_type": "code",
   "execution_count": 29,
   "metadata": {},
   "outputs": [],
   "source": [
    "# 이미지 파일리스트 모아\n",
    "file_list = os.listdir(IMG_PATH)"
   ]
  },
  {
   "cell_type": "code",
   "execution_count": 32,
   "metadata": {},
   "outputs": [],
   "source": [
    "# 누끼 따는 함수\n",
    "def removeBackground(IMG_PATH):\n",
    "    IMG_PATH =IMG_PATH\n",
    "    OUT_PATH = './orange_remove/'\n",
    "\n",
    "    file_list = os.listdir(IMG_PATH)\n",
    "\n",
    "    for file in file_list:\n",
    "        \n",
    "        img = Image.open(IMG_PATH+file)\n",
    "        out = remove(img)\n",
    "        if not os.path.exists(OUT_PATH):\n",
    "            os.mkdir(OUT_PATH)\n",
    "        if out.mode == 'RGBA':\n",
    "            out = out.convert('RGB')\n",
    "        out.save(OUT_PATH+file)"
   ]
  },
  {
   "cell_type": "code",
   "execution_count": 39,
   "metadata": {},
   "outputs": [],
   "source": [
    "kaggle_orange_file_list = os.listdir('../WORK')[2:4]\n",
    "for file in kaggle_orange_file_list:\n",
    "    removeBackground('./{}/'.format(file))"
   ]
  }
 ],
 "metadata": {
  "kernelspec": {
   "display_name": "TORCH_CV_38",
   "language": "python",
   "name": "python3"
  },
  "language_info": {
   "codemirror_mode": {
    "name": "ipython",
    "version": 3
   },
   "file_extension": ".py",
   "mimetype": "text/x-python",
   "name": "python",
   "nbconvert_exporter": "python",
   "pygments_lexer": "ipython3",
   "version": "3.8.19"
  }
 },
 "nbformat": 4,
 "nbformat_minor": 2
}
